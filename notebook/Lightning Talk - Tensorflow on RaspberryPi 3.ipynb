{
 "cells": [
  {
   "cell_type": "markdown",
   "metadata": {
    "slideshow": {
     "slide_type": "slide"
    }
   },
   "source": [
    "# Lightning Talk: Tensorflow on the RaspberryPi 3\n",
    "    \n",
    "mlugs, 21. Juni 2016\n",
    "\n",
    "Andreas Madsack"
   ]
  },
  {
   "cell_type": "markdown",
   "metadata": {
    "slideshow": {
     "slide_type": "slide"
    }
   },
   "source": [
    "## How to install Tensorflow on RPi \n",
    "\n",
    "source: https://github.com/samjabrahams/tensorflow-on-raspberry-pi\n",
    "\n",
    "```shell\n",
    "# install python\n",
    "sudo apt-get install python3-pip python3-dev\n",
    "\n",
    "# download wheel\n",
    "wget https://github.com/samjabrahams/tensorflow-on-raspberry-pi/raw/master/bin/tensorflow-0.8.0-cp34-cp34m-linux_armv7l.whl\n",
    "\n",
    "# install wheel\n",
    "sudo pip3 install tensorflow-0.8.0-cp34-cp34m-linux_armv7l.whl\n",
    "```"
   ]
  },
  {
   "cell_type": "markdown",
   "metadata": {
    "slideshow": {
     "slide_type": "slide"
    }
   },
   "source": [
    "## Run some minimal example\n",
    "\n",
    "source: https://github.com/tensorflow/tensorflow/\n",
    "\n",
    "```python\n",
    "import tensorflow as tf\n",
    "hello = tf.constant('Hello, TensorFlow!')\n",
    "sess = tf.Session()\n",
    "sess.run(hello)\n",
    "a = tf.constant(10)\n",
    "b = tf.constant(32)\n",
    "sess.run(a+b)\n",
    "```\n"
   ]
  },
  {
   "cell_type": "markdown",
   "metadata": {
    "slideshow": {
     "slide_type": "fragment"
    }
   },
   "source": [
    "## Demo !!"
   ]
  },
  {
   "cell_type": "markdown",
   "metadata": {
    "slideshow": {
     "slide_type": "slide"
    }
   },
   "source": [
    "## next\n",
    "\n",
    "* classify images to filter really bad images and only push *good* ones. for https://cress.space"
   ]
  },
  {
   "cell_type": "markdown",
   "metadata": {
    "slideshow": {
     "slide_type": "subslide"
    }
   },
   "source": [
    "### bad\n",
    "\n",
    "![](https://cress.space/media/photos/1466421601.jpg)"
   ]
  },
  {
   "cell_type": "markdown",
   "metadata": {
    "slideshow": {
     "slide_type": "subslide"
    }
   },
   "source": [
    "### good\n",
    "\n",
    "![](https://cress.space/media/photos/1466422201.jpg)"
   ]
  },
  {
   "cell_type": "markdown",
   "metadata": {
    "slideshow": {
     "slide_type": "subslide"
    }
   },
   "source": [
    "### good, but night\n",
    "\n",
    "![](https://cress.space/media/photos/1466385901.jpg)"
   ]
  }
 ],
 "metadata": {
  "celltoolbar": "Slideshow",
  "kernelspec": {
   "display_name": "Python 3",
   "language": "python",
   "name": "python3"
  },
  "language_info": {
   "codemirror_mode": {
    "name": "ipython",
    "version": 3
   },
   "file_extension": ".py",
   "mimetype": "text/x-python",
   "name": "python",
   "nbconvert_exporter": "python",
   "pygments_lexer": "ipython3",
   "version": "3.5.1"
  },
  "widgets": {
   "state": {},
   "version": "1.1.1"
  }
 },
 "nbformat": 4,
 "nbformat_minor": 0
}
