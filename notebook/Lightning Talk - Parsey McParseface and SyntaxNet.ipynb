{
 "cells": [
  {
   "cell_type": "markdown",
   "metadata": {
    "slideshow": {
     "slide_type": "slide"
    }
   },
   "source": [
    "# Lightning Talk:\n",
    "# Parsey McParseface and SyntaxNet\n",
    "\n",
    "mlugs, 21. Juni 2016\n",
    "\n",
    "Andreas Madsack"
   ]
  },
  {
   "cell_type": "markdown",
   "metadata": {
    "slideshow": {
     "slide_type": "slide"
    }
   },
   "source": [
    "![](http://assets.amuniversal.com/069681c00e36013466a5005056a9545d)"
   ]
  },
  {
   "cell_type": "markdown",
   "metadata": {
    "slideshow": {
     "slide_type": "slide"
    }
   },
   "source": [
    "## What is Parsey McParseface / SyntaxNet\n",
    "\n",
    "* Parsey McParseface is a *dependency parser* for English\n",
    "![](https://github.com/tensorflow/models/raw/master/syntaxnet/sawman.png)\n",
    "\n",
    "* Already trained and ready to use!\n",
    "\n",
    "* SyntaxNet is the Tensorflow project for all languages. English (Parsey McParseface) is only one of them."
   ]
  },
  {
   "cell_type": "markdown",
   "metadata": {
    "slideshow": {
     "slide_type": "slide"
    }
   },
   "source": [
    "## How do I use Parsey McParseface\n",
    "\n",
    "with Docker:\n",
    "\n",
    "```\n",
    "echo \"I saw the man with glasses\" | \\\n",
    "docker run -i --rm saturnism/syntaxnet 2> /dev/null\n",
    "```\n",
    "\n",
    "returns:\n",
    "```\n",
    "Input: I saw the man with glasses\n",
    "Parse:\n",
    "saw VBD ROOT\n",
    " +-- I PRP nsubj\n",
    " +-- man NN dobj\n",
    " |   +-- the DT det\n",
    " +-- with IN prep\n",
    "     +-- glasses NNS pobj\n",
    "```\n",
    "\n"
   ]
  },
  {
   "cell_type": "markdown",
   "metadata": {
    "slideshow": {
     "slide_type": "slide"
    }
   },
   "source": [
    "## Only English?\n",
    "\n",
    "yes.\n",
    "\n",
    "You can train your own model using http://universaldependencies.org/.\n",
    "Not that easy! If you succeed please share. :)"
   ]
  }
 ],
 "metadata": {
  "celltoolbar": "Slideshow",
  "kernelspec": {
   "display_name": "Python 3",
   "language": "python",
   "name": "python3"
  },
  "language_info": {
   "codemirror_mode": {
    "name": "ipython",
    "version": 3
   },
   "file_extension": ".py",
   "mimetype": "text/x-python",
   "name": "python",
   "nbconvert_exporter": "python",
   "pygments_lexer": "ipython3",
   "version": "3.5.1"
  },
  "widgets": {
   "state": {},
   "version": "1.1.1"
  }
 },
 "nbformat": 4,
 "nbformat_minor": 0
}
