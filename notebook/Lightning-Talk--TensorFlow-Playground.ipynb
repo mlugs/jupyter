{
 "cells": [
  {
   "cell_type": "markdown",
   "metadata": {
    "slideshow": {
     "slide_type": "slide"
    }
   },
   "source": [
    "# Lightning Talk: playground.tensorflow.org\n",
    "\n",
    "mlugs, 21. April 2016\n",
    "\n",
    "Andreas Madsack"
   ]
  },
  {
   "cell_type": "markdown",
   "metadata": {
    "slideshow": {
     "slide_type": "slide"
    }
   },
   "source": [
    "# About\n",
    "\n",
    "* Play with Neural Networks in your Browser\n",
    "* TensorFlow is the Neural Network Framework from Google (aka Deep Learning)\n",
    "* The implementation used is not Tensorflow itself - https://github.com/tensorflow/playground/blob/master/nn.ts\n",
    "* Apache License\n",
    "* https://github.com/tensorflow/playground"
   ]
  },
  {
   "cell_type": "markdown",
   "metadata": {
    "slideshow": {
     "slide_type": "slide"
    }
   },
   "source": [
    "![playground screenshot](http://paste.madflex.de/jrRqPaTX/+inline?)\n"
   ]
  },
  {
   "cell_type": "markdown",
   "metadata": {
    "slideshow": {
     "slide_type": "slide"
    }
   },
   "source": [
    "=> http://playground.tensorflow.org "
   ]
  }
 ],
 "metadata": {
  "celltoolbar": "Slideshow",
  "kernelspec": {
   "display_name": "Python 3",
   "language": "python",
   "name": "python3"
  },
  "language_info": {
   "codemirror_mode": {
    "name": "ipython",
    "version": 3
   },
   "file_extension": ".py",
   "mimetype": "text/x-python",
   "name": "python",
   "nbconvert_exporter": "python",
   "pygments_lexer": "ipython3",
   "version": "3.5.1"
  }
 },
 "nbformat": 4,
 "nbformat_minor": 0
}
